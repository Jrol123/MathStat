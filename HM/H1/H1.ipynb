{
 "cells": [
  {
   "cell_type": "code",
   "execution_count": 34,
   "id": "initial_id",
   "metadata": {
    "collapsed": true,
    "ExecuteTime": {
     "end_time": "2024-03-18T10:36:15.919878Z",
     "start_time": "2024-03-18T10:36:15.908871Z"
    }
   },
   "outputs": [],
   "source": [
    "import random\n",
    "import numpy as np\n",
    "import pandas as pd"
   ]
  },
  {
   "cell_type": "code",
   "outputs": [
    {
     "data": {
      "text/plain": "    A   B   C   D   E   F   G   H   I   J\n0  83  80  76  79  81  69  78  87  72  84\n1  73  85  76  79  75  65  77  89  83  70\n2  90  82  79  88  88  86  84  81  74  70\n3  92  73  80  80  87  81  77  74  66  68\n4  71  78  85  78  82  75  71  77  86  74",
      "text/html": "<div>\n<style scoped>\n    .dataframe tbody tr th:only-of-type {\n        vertical-align: middle;\n    }\n\n    .dataframe tbody tr th {\n        vertical-align: top;\n    }\n\n    .dataframe thead th {\n        text-align: right;\n    }\n</style>\n<table border=\"1\" class=\"dataframe\">\n  <thead>\n    <tr style=\"text-align: right;\">\n      <th></th>\n      <th>A</th>\n      <th>B</th>\n      <th>C</th>\n      <th>D</th>\n      <th>E</th>\n      <th>F</th>\n      <th>G</th>\n      <th>H</th>\n      <th>I</th>\n      <th>J</th>\n    </tr>\n  </thead>\n  <tbody>\n    <tr>\n      <th>0</th>\n      <td>83</td>\n      <td>80</td>\n      <td>76</td>\n      <td>79</td>\n      <td>81</td>\n      <td>69</td>\n      <td>78</td>\n      <td>87</td>\n      <td>72</td>\n      <td>84</td>\n    </tr>\n    <tr>\n      <th>1</th>\n      <td>73</td>\n      <td>85</td>\n      <td>76</td>\n      <td>79</td>\n      <td>75</td>\n      <td>65</td>\n      <td>77</td>\n      <td>89</td>\n      <td>83</td>\n      <td>70</td>\n    </tr>\n    <tr>\n      <th>2</th>\n      <td>90</td>\n      <td>82</td>\n      <td>79</td>\n      <td>88</td>\n      <td>88</td>\n      <td>86</td>\n      <td>84</td>\n      <td>81</td>\n      <td>74</td>\n      <td>70</td>\n    </tr>\n    <tr>\n      <th>3</th>\n      <td>92</td>\n      <td>73</td>\n      <td>80</td>\n      <td>80</td>\n      <td>87</td>\n      <td>81</td>\n      <td>77</td>\n      <td>74</td>\n      <td>66</td>\n      <td>68</td>\n    </tr>\n    <tr>\n      <th>4</th>\n      <td>71</td>\n      <td>78</td>\n      <td>85</td>\n      <td>78</td>\n      <td>82</td>\n      <td>75</td>\n      <td>71</td>\n      <td>77</td>\n      <td>86</td>\n      <td>74</td>\n    </tr>\n  </tbody>\n</table>\n</div>"
     },
     "execution_count": 35,
     "metadata": {},
     "output_type": "execute_result"
    }
   ],
   "source": [
    "df = pd.read_csv('table.csv')\n",
    "df"
   ],
   "metadata": {
    "collapsed": false,
    "ExecuteTime": {
     "end_time": "2024-03-18T10:36:15.935392Z",
     "start_time": "2024-03-18T10:36:15.921878Z"
    }
   },
   "id": "eded3513788a4684",
   "execution_count": 35
  },
  {
   "cell_type": "code",
   "outputs": [
    {
     "data": {
      "text/plain": "50"
     },
     "execution_count": 36,
     "metadata": {},
     "output_type": "execute_result"
    }
   ],
   "source": [
    "n = df.shape[0] * df.shape[1]\n",
    "n"
   ],
   "metadata": {
    "collapsed": false,
    "ExecuteTime": {
     "end_time": "2024-03-18T10:36:15.951394Z",
     "start_time": "2024-03-18T10:36:15.936393Z"
    }
   },
   "id": "2cee33d5e96b4bd5",
   "execution_count": 36
  },
  {
   "cell_type": "code",
   "outputs": [
    {
     "data": {
      "text/plain": "9"
     },
     "execution_count": 37,
     "metadata": {},
     "output_type": "execute_result"
    }
   ],
   "source": [
    "k = random.randrange(8, 9 + 1)\n",
    "k\n",
    "# k_1 = 1 + 3.322 * np.emath.log(n)\n",
    "# k_1"
   ],
   "metadata": {
    "collapsed": false,
    "ExecuteTime": {
     "end_time": "2024-03-18T10:36:15.967391Z",
     "start_time": "2024-03-18T10:36:15.953392Z"
    }
   },
   "id": "56e31ca0d09f6eb",
   "execution_count": 37
  },
  {
   "cell_type": "code",
   "outputs": [
    {
     "data": {
      "text/plain": "27"
     },
     "execution_count": 45,
     "metadata": {},
     "output_type": "execute_result"
    }
   ],
   "source": [
    "ndf = df.to_numpy()\n",
    "max_v = ndf.max()\n",
    "min_v = ndf.min()\n",
    "r = max_v - min_v\n",
    "r"
   ],
   "metadata": {
    "collapsed": false,
    "ExecuteTime": {
     "end_time": "2024-03-18T10:37:08.800525Z",
     "start_time": "2024-03-18T10:37:08.786525Z"
    }
   },
   "id": "1afbfd6ce772f579",
   "execution_count": 45
  },
  {
   "cell_type": "code",
   "outputs": [
    {
     "data": {
      "text/plain": "3.0"
     },
     "execution_count": 46,
     "metadata": {},
     "output_type": "execute_result"
    }
   ],
   "source": [
    "h = r/k\n",
    "h"
   ],
   "metadata": {
    "collapsed": false,
    "ExecuteTime": {
     "end_time": "2024-03-18T10:37:09.322142Z",
     "start_time": "2024-03-18T10:37:09.307131Z"
    }
   },
   "id": "faf8c8fb04d91280",
   "execution_count": 46
  },
  {
   "cell_type": "code",
   "outputs": [
    {
     "data": {
      "text/plain": "array([66.5, 69.5, 72.5, 75.5, 78.5, 81.5, 84.5, 87.5, 90.5])"
     },
     "execution_count": 55,
     "metadata": {},
     "output_type": "execute_result"
    }
   ],
   "source": [
    "intervals = []\n",
    "v = min_v\n",
    "for _ in range(k):\n",
    "    intervals.append((int(v), int(v + h)))\n",
    "    v += h\n",
    "intervals\n",
    "\n",
    "mid_intervals = []\n",
    "for rng in intervals:\n",
    "    mid_intervals.append((rng[1] + rng[0]) / 2)\n",
    "mid_intervals = np.array(mid_intervals).reshape(-1)\n",
    "mid_intervals"
   ],
   "metadata": {
    "collapsed": false,
    "ExecuteTime": {
     "end_time": "2024-03-18T10:37:53.201290Z",
     "start_time": "2024-03-18T10:37:53.181295Z"
    }
   },
   "id": "ac528ddc703b0115",
   "execution_count": 55
  },
  {
   "cell_type": "code",
   "outputs": [
    {
     "data": {
      "text/plain": "[65.0, 68.0)    2\n[68.0, 71.0)    4\n[71.0, 74.0)    5\n[74.0, 77.0)    7\n[77.0, 80.0)    9\n[80.0, 83.0)    8\n[83.0, 86.0)    6\n[86.0, 89.0)    6\n[89.0, 92.0)    3\ndtype: int64"
     },
     "execution_count": 78,
     "metadata": {},
     "output_type": "execute_result"
    }
   ],
   "source": [
    "line_ndf = pd.Series(ndf.reshape(-1), index=ndf.reshape(-1))\n",
    "line_ndf\n",
    "cut_df = pd.cut(line_ndf, bins=k, right=False, retbins=True, precision=1)[0]\n",
    "freq_df = cut_df.groupby(cut_df, observed=True).count()\n",
    "freq_df"
   ],
   "metadata": {
    "collapsed": false,
    "ExecuteTime": {
     "end_time": "2024-03-18T10:43:08.009129Z",
     "start_time": "2024-03-18T10:43:07.990224Z"
    }
   },
   "id": "9d9bde167c33dca6",
   "execution_count": 78
  },
  {
   "cell_type": "code",
   "outputs": [
    {
     "data": {
      "text/plain": "          Середина интервала  Частота  ПлотностьЧастоты  ОтносительнаяЧастота  \\\n(65, 68)                66.5        2          0.666667                  0.04   \n(68, 71)                69.5        4          1.333333                  0.08   \n(71, 74)                72.5        5          1.666667                  0.10   \n(74, 77)                75.5        7          2.333333                  0.14   \n(77, 80)                78.5        9          3.000000                  0.18   \n(80, 83)                81.5        8          2.666667                  0.16   \n(83, 86)                84.5        6          2.000000                  0.12   \n(86, 89)                87.5        6          2.000000                  0.12   \n(89, 92)                90.5        3          1.000000                  0.06   \n\n          ПлотностьОтносительнойЧастоты  \n(65, 68)                       0.013333  \n(68, 71)                       0.026667  \n(71, 74)                       0.033333  \n(74, 77)                       0.046667  \n(77, 80)                       0.060000  \n(80, 83)                       0.053333  \n(83, 86)                       0.040000  \n(86, 89)                       0.040000  \n(89, 92)                       0.020000  ",
      "text/html": "<div>\n<style scoped>\n    .dataframe tbody tr th:only-of-type {\n        vertical-align: middle;\n    }\n\n    .dataframe tbody tr th {\n        vertical-align: top;\n    }\n\n    .dataframe thead th {\n        text-align: right;\n    }\n</style>\n<table border=\"1\" class=\"dataframe\">\n  <thead>\n    <tr style=\"text-align: right;\">\n      <th></th>\n      <th>Середина интервала</th>\n      <th>Частота</th>\n      <th>ПлотностьЧастоты</th>\n      <th>ОтносительнаяЧастота</th>\n      <th>ПлотностьОтносительнойЧастоты</th>\n    </tr>\n  </thead>\n  <tbody>\n    <tr>\n      <th>(65, 68)</th>\n      <td>66.5</td>\n      <td>2</td>\n      <td>0.666667</td>\n      <td>0.04</td>\n      <td>0.013333</td>\n    </tr>\n    <tr>\n      <th>(68, 71)</th>\n      <td>69.5</td>\n      <td>4</td>\n      <td>1.333333</td>\n      <td>0.08</td>\n      <td>0.026667</td>\n    </tr>\n    <tr>\n      <th>(71, 74)</th>\n      <td>72.5</td>\n      <td>5</td>\n      <td>1.666667</td>\n      <td>0.10</td>\n      <td>0.033333</td>\n    </tr>\n    <tr>\n      <th>(74, 77)</th>\n      <td>75.5</td>\n      <td>7</td>\n      <td>2.333333</td>\n      <td>0.14</td>\n      <td>0.046667</td>\n    </tr>\n    <tr>\n      <th>(77, 80)</th>\n      <td>78.5</td>\n      <td>9</td>\n      <td>3.000000</td>\n      <td>0.18</td>\n      <td>0.060000</td>\n    </tr>\n    <tr>\n      <th>(80, 83)</th>\n      <td>81.5</td>\n      <td>8</td>\n      <td>2.666667</td>\n      <td>0.16</td>\n      <td>0.053333</td>\n    </tr>\n    <tr>\n      <th>(83, 86)</th>\n      <td>84.5</td>\n      <td>6</td>\n      <td>2.000000</td>\n      <td>0.12</td>\n      <td>0.040000</td>\n    </tr>\n    <tr>\n      <th>(86, 89)</th>\n      <td>87.5</td>\n      <td>6</td>\n      <td>2.000000</td>\n      <td>0.12</td>\n      <td>0.040000</td>\n    </tr>\n    <tr>\n      <th>(89, 92)</th>\n      <td>90.5</td>\n      <td>3</td>\n      <td>1.000000</td>\n      <td>0.06</td>\n      <td>0.020000</td>\n    </tr>\n  </tbody>\n</table>\n</div>"
     },
     "execution_count": 83,
     "metadata": {},
     "output_type": "execute_result"
    }
   ],
   "source": [
    "int_df = pd.DataFrame(index=intervals)\n",
    "int_df['Середина интервала'] = mid_intervals\n",
    "int_df['Частота'] = freq_df.values\n",
    "int_df = int_df.assign(ПлотностьЧастоты = lambda row: (row['Частота']/h))\n",
    "int_df = int_df.assign(ОтносительнаяЧастота = lambda row: (row['Частота']/n))\n",
    "int_df = int_df.assign(ПлотностьОтносительнойЧастоты = lambda row: (row['ОтносительнаяЧастота']/h))\n",
    "int_df"
   ],
   "metadata": {
    "collapsed": false,
    "ExecuteTime": {
     "end_time": "2024-03-18T10:44:55.082186Z",
     "start_time": "2024-03-18T10:44:55.068355Z"
    }
   },
   "id": "b7a3dd2b06de480d",
   "execution_count": 83
  },
  {
   "cell_type": "code",
   "outputs": [
    {
     "data": {
      "text/plain": "<Axes: >"
     },
     "execution_count": 84,
     "metadata": {},
     "output_type": "execute_result"
    },
    {
     "data": {
      "text/plain": "<Figure size 640x480 with 1 Axes>",
      "image/png": "[encoded data removed]"
     },
     "metadata": {},
     "output_type": "display_data"
    }
   ],
   "source": [
    "int_df['Частота'].plot.bar()"
   ],
   "metadata": {
    "collapsed": false,
    "ExecuteTime": {
     "end_time": "2024-03-18T10:45:04.577578Z",
     "start_time": "2024-03-18T10:45:03.966449Z"
    }
   },
   "id": "320053f0a147ebf",
   "execution_count": 84
  },
  {
   "cell_type": "code",
   "outputs": [
    {
     "data": {
      "text/plain": "65    1\n66    1\n68    1\n69    1\n70    2\n71    2\n72    1\n73    2\n74    3\n75    2\n76    2\n77    3\n78    3\n79    3\n80    3\n81    3\n82    2\n83    2\n84    2\n85    2\n86    2\n87    2\n88    2\n89    1\n90    1\n92    1\ndtype: int64"
     },
     "execution_count": 100,
     "metadata": {},
     "output_type": "execute_result"
    }
   ],
   "source": [
    "un_ndf = np.unique(ndf).reshape(-1)\n",
    "counts = pd.Series(ndf.reshape(-1)).groupby(pd.Series(ndf.reshape(-1))).count()\n",
    "\n",
    "discr_df = pd.Series(counts.values, index=un_ndf)\n",
    "discr_df"
   ],
   "metadata": {
    "collapsed": false,
    "ExecuteTime": {
     "end_time": "2024-03-18T10:49:23.640839Z",
     "start_time": "2024-03-18T10:49:23.626007Z"
    }
   },
   "id": "5f90a1d783e0f3ad",
   "execution_count": 100
  },
  {
   "cell_type": "code",
   "outputs": [],
   "source": [],
   "metadata": {
    "collapsed": false
   },
   "id": "a4cd4ed0ea6a47f2"
  }
 ],
 "metadata": {
  "kernelspec": {
   "display_name": "Python 3",
   "language": "python",
   "name": "python3"
  },
  "language_info": {
   "codemirror_mode": {
    "name": "ipython",
    "version": 2
   },
   "file_extension": ".py",
   "mimetype": "text/x-python",
   "name": "python",
   "nbconvert_exporter": "python",
   "pygments_lexer": "ipython2",
   "version": "2.7.6"
  }
 },
 "nbformat": 4,
 "nbformat_minor": 5
}
