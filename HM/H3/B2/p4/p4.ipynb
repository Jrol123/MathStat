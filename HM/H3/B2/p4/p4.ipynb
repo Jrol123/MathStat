{
 "cells": [
  {
   "cell_type": "code",
   "id": "initial_id",
   "metadata": {
    "collapsed": true,
    "ExecuteTime": {
     "end_time": "2024-04-14T03:43:33.716247Z",
     "start_time": "2024-04-14T03:43:33.697266Z"
    }
   },
   "source": [
    "import pandas as pd\n",
    "import matplotlib.patches as mpatches\n",
    "import matplotlib.pyplot as plt"
   ],
   "outputs": [],
   "execution_count": 37
  },
  {
   "metadata": {
    "ExecuteTime": {
     "end_time": "2024-04-14T03:43:33.763908Z",
     "start_time": "2024-04-14T03:43:33.722781Z"
    }
   },
   "cell_type": "code",
   "source": [
    "df = pd.read_csv(\"data.csv\", index_col=0)\n",
    "df"
   ],
   "id": "d11b7da2298feee5",
   "outputs": [
    {
     "data": {
      "text/plain": [
       "             Общие затраты  Число застрахованных человек (тыс.)  \\\n",
       "Организация                                                       \n",
       "1                  8428.42                                 15.4   \n",
       "2                  9354.24                                 12.8   \n",
       "3                 13185.65                                730.8   \n",
       "\n",
       "             Средние затраты на лечение 1 человека (р.)  \n",
       "Организация                                              \n",
       "1                                                 547.3  \n",
       "2                                                  30.7  \n",
       "3                                                 429.5  "
      ],
      "text/html": [
       "<div>\n",
       "<style scoped>\n",
       "    .dataframe tbody tr th:only-of-type {\n",
       "        vertical-align: middle;\n",
       "    }\n",
       "\n",
       "    .dataframe tbody tr th {\n",
       "        vertical-align: top;\n",
       "    }\n",
       "\n",
       "    .dataframe thead th {\n",
       "        text-align: right;\n",
       "    }\n",
       "</style>\n",
       "<table border=\"1\" class=\"dataframe\">\n",
       "  <thead>\n",
       "    <tr style=\"text-align: right;\">\n",
       "      <th></th>\n",
       "      <th>Общие затраты</th>\n",
       "      <th>Число застрахованных человек (тыс.)</th>\n",
       "      <th>Средние затраты на лечение 1 человека (р.)</th>\n",
       "    </tr>\n",
       "    <tr>\n",
       "      <th>Организация</th>\n",
       "      <th></th>\n",
       "      <th></th>\n",
       "      <th></th>\n",
       "    </tr>\n",
       "  </thead>\n",
       "  <tbody>\n",
       "    <tr>\n",
       "      <th>1</th>\n",
       "      <td>8428.42</td>\n",
       "      <td>15.4</td>\n",
       "      <td>547.3</td>\n",
       "    </tr>\n",
       "    <tr>\n",
       "      <th>2</th>\n",
       "      <td>9354.24</td>\n",
       "      <td>12.8</td>\n",
       "      <td>30.7</td>\n",
       "    </tr>\n",
       "    <tr>\n",
       "      <th>3</th>\n",
       "      <td>13185.65</td>\n",
       "      <td>730.8</td>\n",
       "      <td>429.5</td>\n",
       "    </tr>\n",
       "  </tbody>\n",
       "</table>\n",
       "</div>"
      ]
     },
     "execution_count": 38,
     "metadata": {},
     "output_type": "execute_result"
    }
   ],
   "execution_count": 38
  },
  {
   "metadata": {
    "ExecuteTime": {
     "end_time": "2024-04-14T03:51:19.414967Z",
     "start_time": "2024-04-14T03:51:19.160771Z"
    }
   },
   "cell_type": "code",
   "source": [
    "step = 10\n",
    "plt.xlim(-step*2, 800)\n",
    "plt.ylim(0, 600)\n",
    "axes = plt.gca()\n",
    "cum_dist = 0.0\n",
    "for index in range(len(df)):\n",
    "    row = df.iloc[index]\n",
    "    coord = (cum_dist, 0)\n",
    "    width = row['Число застрахованных человек (тыс.)']\n",
    "    height = row['Средние затраты на лечение 1 человека (р.)']\n",
    "    S = row['Общие затраты']\n",
    "    \n",
    "    rectangle = mpatches.Rectangle(coord, width, height)\n",
    "    \n",
    "    axes.add_patch(rectangle)\n",
    "    # plt.text(cum_dist + width/2, 0 + height/2, S, horizontalalignment='center', verticalalignment='center')\n",
    "    \n",
    "    cum_dist += step + width\n",
    "\n",
    "plt.show()"
   ],
   "id": "4a98f67332154f43",
   "outputs": [
    {
     "data": {
      "text/plain": [
       "<Figure size 640x480 with 1 Axes>"
      ],
      "image/png": "[encoded data removed]"
     },
     "metadata": {},
     "output_type": "display_data"
    }
   ],
   "execution_count": 54
  },
  {
   "metadata": {
    "ExecuteTime": {
     "end_time": "2024-04-14T03:43:34.057954Z",
     "start_time": "2024-04-14T03:43:34.049554Z"
    }
   },
   "cell_type": "code",
   "source": "",
   "id": "19018240cf2574b8",
   "outputs": [],
   "execution_count": 39
  }
 ],
 "metadata": {
  "kernelspec": {
   "display_name": "Python 3",
   "language": "python",
   "name": "python3"
  },
  "language_info": {
   "codemirror_mode": {
    "name": "ipython",
    "version": 2
   },
   "file_extension": ".py",
   "mimetype": "text/x-python",
   "name": "python",
   "nbconvert_exporter": "python",
   "pygments_lexer": "ipython2",
   "version": "2.7.6"
  }
 },
 "nbformat": 4,
 "nbformat_minor": 5
}
