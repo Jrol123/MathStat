{
 "cells": [
  {
   "cell_type": "code",
   "id": "initial_id",
   "metadata": {
    "collapsed": true,
    "ExecuteTime": {
     "end_time": "2024-04-14T05:42:43.591802Z",
     "start_time": "2024-04-14T05:42:43.574759Z"
    }
   },
   "source": [
    "import pandas as pd\n",
    "import matplotlib.pyplot as plt"
   ],
   "outputs": [],
   "execution_count": 77
  },
  {
   "metadata": {
    "ExecuteTime": {
     "end_time": "2024-04-14T05:42:43.606828Z",
     "start_time": "2024-04-14T05:42:43.593305Z"
    }
   },
   "cell_type": "code",
   "source": [
    "df = pd.read_csv(\"data.csv\", index_col=0)\n",
    "df"
   ],
   "id": "c974b009697f5ff6",
   "outputs": [
    {
     "data": {
      "text/plain": [
       "         Декадный план выпуска  Фактический выпуск в декаде 1  \\\n",
       "Изделие                                                         \n",
       "A                          400                            380   \n",
       "Б                          500                            450   \n",
       "В                          700                            710   \n",
       "\n",
       "         Фактический выпуск в декаде 2  Фактический выпуск в декаде 3  \n",
       "Изделие                                                                \n",
       "A                                  400                            410  \n",
       "Б                                  450                            510  \n",
       "В                                  720                            730  "
      ],
      "text/html": [
       "<div>\n",
       "<style scoped>\n",
       "    .dataframe tbody tr th:only-of-type {\n",
       "        vertical-align: middle;\n",
       "    }\n",
       "\n",
       "    .dataframe tbody tr th {\n",
       "        vertical-align: top;\n",
       "    }\n",
       "\n",
       "    .dataframe thead th {\n",
       "        text-align: right;\n",
       "    }\n",
       "</style>\n",
       "<table border=\"1\" class=\"dataframe\">\n",
       "  <thead>\n",
       "    <tr style=\"text-align: right;\">\n",
       "      <th></th>\n",
       "      <th>Декадный план выпуска</th>\n",
       "      <th>Фактический выпуск в декаде 1</th>\n",
       "      <th>Фактический выпуск в декаде 2</th>\n",
       "      <th>Фактический выпуск в декаде 3</th>\n",
       "    </tr>\n",
       "    <tr>\n",
       "      <th>Изделие</th>\n",
       "      <th></th>\n",
       "      <th></th>\n",
       "      <th></th>\n",
       "      <th></th>\n",
       "    </tr>\n",
       "  </thead>\n",
       "  <tbody>\n",
       "    <tr>\n",
       "      <th>A</th>\n",
       "      <td>400</td>\n",
       "      <td>380</td>\n",
       "      <td>400</td>\n",
       "      <td>410</td>\n",
       "    </tr>\n",
       "    <tr>\n",
       "      <th>Б</th>\n",
       "      <td>500</td>\n",
       "      <td>450</td>\n",
       "      <td>450</td>\n",
       "      <td>510</td>\n",
       "    </tr>\n",
       "    <tr>\n",
       "      <th>В</th>\n",
       "      <td>700</td>\n",
       "      <td>710</td>\n",
       "      <td>720</td>\n",
       "      <td>730</td>\n",
       "    </tr>\n",
       "  </tbody>\n",
       "</table>\n",
       "</div>"
      ]
     },
     "execution_count": 78,
     "metadata": {},
     "output_type": "execute_result"
    }
   ],
   "execution_count": 78
  },
  {
   "metadata": {
    "ExecuteTime": {
     "end_time": "2024-04-14T05:42:43.779785Z",
     "start_time": "2024-04-14T05:42:43.607831Z"
    }
   },
   "cell_type": "code",
   "source": "df.cumsum().plot(kind='barh')",
   "id": "543b81c5dcade078",
   "outputs": [
    {
     "data": {
      "text/plain": [
       "<Axes: ylabel='Изделие'>"
      ]
     },
     "execution_count": 79,
     "metadata": {},
     "output_type": "execute_result"
    },
    {
     "data": {
      "text/plain": [
       "<Figure size 640x480 with 1 Axes>"
      ],
      "image/png": "[encoded data removed]"
     },
     "metadata": {},
     "output_type": "display_data"
    }
   ],
   "execution_count": 79
  },
  {
   "metadata": {
    "ExecuteTime": {
     "end_time": "2024-04-14T05:42:43.795769Z",
     "start_time": "2024-04-14T05:42:43.781741Z"
    }
   },
   "cell_type": "code",
   "source": [
    "cdf = df\n",
    "cdf.loc[:,['Фактический выпуск в декаде 1',\n",
    "           'Фактический выпуск в декаде 2',\n",
    "           'Фактический выпуск в декаде 3']] = cdf.loc[:, ['Фактический выпуск в декаде 1',\n",
    "                                                           'Фактический выпуск в декаде 2',\n",
    "                                                           'Фактический выпуск в декаде 3']].cumsum(1)\n",
    "cdf.loc[:,['Декадный план выпуска']]*= 3\n",
    "cdf"
   ],
   "id": "7a80def9e1a7146e",
   "outputs": [
    {
     "data": {
      "text/plain": [
       "         Декадный план выпуска  Фактический выпуск в декаде 1  \\\n",
       "Изделие                                                         \n",
       "A                         1200                            380   \n",
       "Б                         1500                            450   \n",
       "В                         2100                            710   \n",
       "\n",
       "         Фактический выпуск в декаде 2  Фактический выпуск в декаде 3  \n",
       "Изделие                                                                \n",
       "A                                  780                           1190  \n",
       "Б                                  900                           1410  \n",
       "В                                 1430                           2160  "
      ],
      "text/html": [
       "<div>\n",
       "<style scoped>\n",
       "    .dataframe tbody tr th:only-of-type {\n",
       "        vertical-align: middle;\n",
       "    }\n",
       "\n",
       "    .dataframe tbody tr th {\n",
       "        vertical-align: top;\n",
       "    }\n",
       "\n",
       "    .dataframe thead th {\n",
       "        text-align: right;\n",
       "    }\n",
       "</style>\n",
       "<table border=\"1\" class=\"dataframe\">\n",
       "  <thead>\n",
       "    <tr style=\"text-align: right;\">\n",
       "      <th></th>\n",
       "      <th>Декадный план выпуска</th>\n",
       "      <th>Фактический выпуск в декаде 1</th>\n",
       "      <th>Фактический выпуск в декаде 2</th>\n",
       "      <th>Фактический выпуск в декаде 3</th>\n",
       "    </tr>\n",
       "    <tr>\n",
       "      <th>Изделие</th>\n",
       "      <th></th>\n",
       "      <th></th>\n",
       "      <th></th>\n",
       "      <th></th>\n",
       "    </tr>\n",
       "  </thead>\n",
       "  <tbody>\n",
       "    <tr>\n",
       "      <th>A</th>\n",
       "      <td>1200</td>\n",
       "      <td>380</td>\n",
       "      <td>780</td>\n",
       "      <td>1190</td>\n",
       "    </tr>\n",
       "    <tr>\n",
       "      <th>Б</th>\n",
       "      <td>1500</td>\n",
       "      <td>450</td>\n",
       "      <td>900</td>\n",
       "      <td>1410</td>\n",
       "    </tr>\n",
       "    <tr>\n",
       "      <th>В</th>\n",
       "      <td>2100</td>\n",
       "      <td>710</td>\n",
       "      <td>1430</td>\n",
       "      <td>2160</td>\n",
       "    </tr>\n",
       "  </tbody>\n",
       "</table>\n",
       "</div>"
      ]
     },
     "execution_count": 80,
     "metadata": {},
     "output_type": "execute_result"
    }
   ],
   "execution_count": 80
  },
  {
   "metadata": {
    "ExecuteTime": {
     "end_time": "2024-04-14T05:44:29.028264Z",
     "start_time": "2024-04-14T05:44:28.903043Z"
    }
   },
   "cell_type": "code",
   "source": [
    "# plt.plot(cdf['Декадный план выпуска'], cdf['Фактический выпуск в декаде 3'])\n",
    "cdf.plot(y=['Декадный план выпуска', 'Фактический выпуск в декаде 3'], kind='barh', xticks=range(0, max(cdf['Фактический выпуск в декаде 3']), 200))"
   ],
   "id": "db61411018f32957",
   "outputs": [
    {
     "data": {
      "text/plain": [
       "<Axes: ylabel='Изделие'>"
      ]
     },
     "execution_count": 89,
     "metadata": {},
     "output_type": "execute_result"
    },
    {
     "data": {
      "text/plain": [
       "<Figure size 640x480 with 1 Axes>"
      ],
      "image/png": "[encoded data removed]"
     },
     "metadata": {},
     "output_type": "display_data"
    }
   ],
   "execution_count": 89
  },
  {
   "metadata": {
    "ExecuteTime": {
     "end_time": "2024-04-14T05:42:43.938078Z",
     "start_time": "2024-04-14T05:42:43.925557Z"
    }
   },
   "cell_type": "code",
   "source": "",
   "id": "866f604920ad434a",
   "outputs": [],
   "execution_count": 81
  }
 ],
 "metadata": {
  "kernelspec": {
   "display_name": "Python 3",
   "language": "python",
   "name": "python3"
  },
  "language_info": {
   "codemirror_mode": {
    "name": "ipython",
    "version": 2
   },
   "file_extension": ".py",
   "mimetype": "text/x-python",
   "name": "python",
   "nbconvert_exporter": "python",
   "pygments_lexer": "ipython2",
   "version": "2.7.6"
  }
 },
 "nbformat": 4,
 "nbformat_minor": 5
}
