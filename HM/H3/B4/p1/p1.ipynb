{
 "cells": [
  {
   "cell_type": "code",
   "id": "initial_id",
   "metadata": {
    "collapsed": true,
    "ExecuteTime": {
     "end_time": "2024-04-15T01:16:46.256112Z",
     "start_time": "2024-04-15T01:16:46.238005Z"
    }
   },
   "source": "import pandas as pd",
   "outputs": [],
   "execution_count": 72
  },
  {
   "metadata": {
    "ExecuteTime": {
     "end_time": "2024-04-15T01:16:46.304272Z",
     "start_time": "2024-04-15T01:16:46.258114Z"
    }
   },
   "cell_type": "code",
   "source": [
    "df = pd.read_csv(\"data.csv\", index_col=0)\n",
    "df"
   ],
   "id": "159b129fbb553e4d",
   "outputs": [
    {
     "data": {
      "text/plain": [
       "                     Число студентов\n",
       "Оценки                              \n",
       "Отлично                            7\n",
       "Хорошо                            18\n",
       "Удовлетворительно                  6\n",
       "Неудовлетворительно                2"
      ],
      "text/html": [
       "<div>\n",
       "<style scoped>\n",
       "    .dataframe tbody tr th:only-of-type {\n",
       "        vertical-align: middle;\n",
       "    }\n",
       "\n",
       "    .dataframe tbody tr th {\n",
       "        vertical-align: top;\n",
       "    }\n",
       "\n",
       "    .dataframe thead th {\n",
       "        text-align: right;\n",
       "    }\n",
       "</style>\n",
       "<table border=\"1\" class=\"dataframe\">\n",
       "  <thead>\n",
       "    <tr style=\"text-align: right;\">\n",
       "      <th></th>\n",
       "      <th>Число студентов</th>\n",
       "    </tr>\n",
       "    <tr>\n",
       "      <th>Оценки</th>\n",
       "      <th></th>\n",
       "    </tr>\n",
       "  </thead>\n",
       "  <tbody>\n",
       "    <tr>\n",
       "      <th>Отлично</th>\n",
       "      <td>7</td>\n",
       "    </tr>\n",
       "    <tr>\n",
       "      <th>Хорошо</th>\n",
       "      <td>18</td>\n",
       "    </tr>\n",
       "    <tr>\n",
       "      <th>Удовлетворительно</th>\n",
       "      <td>6</td>\n",
       "    </tr>\n",
       "    <tr>\n",
       "      <th>Неудовлетворительно</th>\n",
       "      <td>2</td>\n",
       "    </tr>\n",
       "  </tbody>\n",
       "</table>\n",
       "</div>"
      ]
     },
     "execution_count": 73,
     "metadata": {},
     "output_type": "execute_result"
    }
   ],
   "execution_count": 73
  },
  {
   "metadata": {
    "ExecuteTime": {
     "end_time": "2024-04-15T01:16:46.336344Z",
     "start_time": "2024-04-15T01:16:46.305272Z"
    }
   },
   "cell_type": "code",
   "source": [
    "mod = df.loc[df['Число студентов'] == max(df['Число студентов'])].index[0]\n",
    "mod"
   ],
   "id": "7e9aa0fc0667141c",
   "outputs": [
    {
     "data": {
      "text/plain": [
       "'Хорошо'"
      ]
     },
     "execution_count": 74,
     "metadata": {},
     "output_type": "execute_result"
    }
   ],
   "execution_count": 74
  },
  {
   "metadata": {
    "ExecuteTime": {
     "end_time": "2024-04-15T01:26:46.030588Z",
     "start_time": "2024-04-15T01:26:46.015060Z"
    }
   },
   "cell_type": "code",
   "source": [
    "# Ранжирование\n",
    "cdf = df.sort_values(by=['Число студентов']).cumsum()\n",
    "#Взятие среднего индекса\n",
    "mid_index = (cdf.loc['Хорошо']['Число студентов'] + 1) / 2\n",
    "mid_index\n",
    "# Получение медианного значения\n",
    "cdf = cdf.sort_values(by=['Число студентов'], ascending=False)\n",
    "cdf.loc[(cdf['Число студентов'] >= mid_index)].sort_values(by=['Число студентов'], ascending=True).head(1).index[0]\n"
   ],
   "id": "3a747c9890160cdf",
   "outputs": [
    {
     "data": {
      "text/plain": [
       "'Хорошо'"
      ]
     },
     "execution_count": 78,
     "metadata": {},
     "output_type": "execute_result"
    }
   ],
   "execution_count": 78
  },
  {
   "metadata": {},
   "cell_type": "code",
   "outputs": [],
   "execution_count": null,
   "source": "",
   "id": "c6188ec12aeae178"
  }
 ],
 "metadata": {
  "kernelspec": {
   "display_name": "Python 3",
   "language": "python",
   "name": "python3"
  },
  "language_info": {
   "codemirror_mode": {
    "name": "ipython",
    "version": 2
   },
   "file_extension": ".py",
   "mimetype": "text/x-python",
   "name": "python",
   "nbconvert_exporter": "python",
   "pygments_lexer": "ipython2",
   "version": "2.7.6"
  }
 },
 "nbformat": 4,
 "nbformat_minor": 5
}
