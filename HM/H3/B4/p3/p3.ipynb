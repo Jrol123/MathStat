{
 "cells": [
  {
   "cell_type": "code",
   "id": "initial_id",
   "metadata": {
    "collapsed": true,
    "ExecuteTime": {
     "end_time": "2024-04-15T01:53:26.991474Z",
     "start_time": "2024-04-15T01:53:26.976955Z"
    }
   },
   "source": "import pandas as pd",
   "outputs": [],
   "execution_count": 10
  },
  {
   "metadata": {
    "ExecuteTime": {
     "end_time": "2024-04-15T01:53:27.006510Z",
     "start_time": "2024-04-15T01:53:26.993476Z"
    }
   },
   "cell_type": "code",
   "source": [
    "df = pd.read_csv('data.csv', index_col=0)\n",
    "df"
   ],
   "id": "519a19b46ecc97c7",
   "outputs": [
    {
     "data": {
      "text/plain": [
       "         Промышленность  Сфера услуг  Медицина\n",
       "Возраст                                       \n",
       "25<                 9.0         14.1       5.1\n",
       "25-35              34.9         29.7       7.9\n",
       "35-45              35.6         26.3      11.5\n",
       "45-50               8.1         12.8      27.7\n",
       "50-55               7.3         10.5      24.6\n",
       "55-60               4.0          4.5      15.4\n",
       ">60                 1.1          2.1       7.8"
      ],
      "text/html": [
       "<div>\n",
       "<style scoped>\n",
       "    .dataframe tbody tr th:only-of-type {\n",
       "        vertical-align: middle;\n",
       "    }\n",
       "\n",
       "    .dataframe tbody tr th {\n",
       "        vertical-align: top;\n",
       "    }\n",
       "\n",
       "    .dataframe thead th {\n",
       "        text-align: right;\n",
       "    }\n",
       "</style>\n",
       "<table border=\"1\" class=\"dataframe\">\n",
       "  <thead>\n",
       "    <tr style=\"text-align: right;\">\n",
       "      <th></th>\n",
       "      <th>Промышленность</th>\n",
       "      <th>Сфера услуг</th>\n",
       "      <th>Медицина</th>\n",
       "    </tr>\n",
       "    <tr>\n",
       "      <th>Возраст</th>\n",
       "      <th></th>\n",
       "      <th></th>\n",
       "      <th></th>\n",
       "    </tr>\n",
       "  </thead>\n",
       "  <tbody>\n",
       "    <tr>\n",
       "      <th>25&lt;</th>\n",
       "      <td>9.0</td>\n",
       "      <td>14.1</td>\n",
       "      <td>5.1</td>\n",
       "    </tr>\n",
       "    <tr>\n",
       "      <th>25-35</th>\n",
       "      <td>34.9</td>\n",
       "      <td>29.7</td>\n",
       "      <td>7.9</td>\n",
       "    </tr>\n",
       "    <tr>\n",
       "      <th>35-45</th>\n",
       "      <td>35.6</td>\n",
       "      <td>26.3</td>\n",
       "      <td>11.5</td>\n",
       "    </tr>\n",
       "    <tr>\n",
       "      <th>45-50</th>\n",
       "      <td>8.1</td>\n",
       "      <td>12.8</td>\n",
       "      <td>27.7</td>\n",
       "    </tr>\n",
       "    <tr>\n",
       "      <th>50-55</th>\n",
       "      <td>7.3</td>\n",
       "      <td>10.5</td>\n",
       "      <td>24.6</td>\n",
       "    </tr>\n",
       "    <tr>\n",
       "      <th>55-60</th>\n",
       "      <td>4.0</td>\n",
       "      <td>4.5</td>\n",
       "      <td>15.4</td>\n",
       "    </tr>\n",
       "    <tr>\n",
       "      <th>&gt;60</th>\n",
       "      <td>1.1</td>\n",
       "      <td>2.1</td>\n",
       "      <td>7.8</td>\n",
       "    </tr>\n",
       "  </tbody>\n",
       "</table>\n",
       "</div>"
      ]
     },
     "execution_count": 11,
     "metadata": {},
     "output_type": "execute_result"
    }
   ],
   "execution_count": 11
  },
  {
   "metadata": {
    "ExecuteTime": {
     "end_time": "2024-04-15T01:53:27.022052Z",
     "start_time": "2024-04-15T01:53:27.007521Z"
    }
   },
   "cell_type": "code",
   "source": [
    "mod_prom = df.loc[df['Промышленность'] == max(df['Промышленность'])].index[0]\n",
    "mod_act = df.loc[df['Сфера услуг'] == max(df['Сфера услуг'])].index[0]\n",
    "mod_med = df.loc[df['Медицина'] == max(df['Медицина'])].index[0]\n",
    "print(mod_prom, mod_act, mod_med)"
   ],
   "id": "118049ab3ad9e278",
   "outputs": [
    {
     "name": "stdout",
     "output_type": "stream",
     "text": [
      "35-45 25-35 45-50\n"
     ]
    }
   ],
   "execution_count": 12
  },
  {
   "metadata": {},
   "cell_type": "markdown",
   "source": "### Промышленность",
   "id": "c6308df700f44e6e"
  },
  {
   "metadata": {
    "ExecuteTime": {
     "end_time": "2024-04-15T02:24:28.193575Z",
     "start_time": "2024-04-15T02:24:28.175575Z"
    }
   },
   "cell_type": "code",
   "source": [
    "# Ранжирование\n",
    "cdf = df.sort_values(by=['Промышленность'])\n",
    "cdf['Промышленность'] = cdf['Промышленность'].cumsum()\n",
    "cdf\n",
    "# cdf.loc[mod_prom]\n",
    "#Взятие среднего индекса\n",
    "mid_index = ((cdf.loc[mod_prom].loc['Промышленность'] + 1) / 2)\n",
    "mid_index\n",
    "# Получение медианного значения\n",
    "cdf = cdf.sort_values(by=['Промышленность'], ascending=False)\n",
    "cdf.loc[(cdf['Промышленность'] >= mid_index)].sort_values(by=['Промышленность'], ascending=True).head(1).index[0]"
   ],
   "id": "3a85aaa783f7649e",
   "outputs": [
    {
     "data": {
      "text/plain": [
       "'25-35'"
      ]
     },
     "execution_count": 30,
     "metadata": {},
     "output_type": "execute_result"
    }
   ],
   "execution_count": 30
  },
  {
   "metadata": {},
   "cell_type": "markdown",
   "source": "### Сфера услуг",
   "id": "ff24e85ad72b22ea"
  },
  {
   "metadata": {
    "ExecuteTime": {
     "end_time": "2024-04-15T02:25:25.162496Z",
     "start_time": "2024-04-15T02:25:25.148499Z"
    }
   },
   "cell_type": "code",
   "source": [
    "# Ранжирование\n",
    "cdf = df.sort_values(by=['Сфера услуг'])\n",
    "cdf['Сфера услуг'] = cdf['Сфера услуг'].cumsum()\n",
    "cdf\n",
    "# cdf.loc[mod_prom]\n",
    "#Взятие среднего индекса\n",
    "mid_index = ((cdf.loc[mod_act].loc['Сфера услуг'] + 1) / 2)\n",
    "mid_index\n",
    "# Получение медианного значения\n",
    "cdf = cdf.sort_values(by=['Сфера услуг'], ascending=False)\n",
    "cdf.loc[(cdf['Сфера услуг'] >= mid_index)].sort_values(by=['Сфера услуг'], ascending=True).head(1).index[0]"
   ],
   "id": "54035cf13ba4a25b",
   "outputs": [
    {
     "data": {
      "text/plain": [
       "'35-45'"
      ]
     },
     "execution_count": 31,
     "metadata": {},
     "output_type": "execute_result"
    }
   ],
   "execution_count": 31
  },
  {
   "metadata": {},
   "cell_type": "markdown",
   "source": "Медицина",
   "id": "1c7a617fb8c4f5f3"
  },
  {
   "metadata": {
    "ExecuteTime": {
     "end_time": "2024-04-15T02:25:53.417954Z",
     "start_time": "2024-04-15T02:25:53.405958Z"
    }
   },
   "cell_type": "code",
   "source": [
    "# Ранжирование\n",
    "cdf = df.sort_values(by=['Медицина'])\n",
    "cdf['Медицина'] = cdf['Медицина'].cumsum()\n",
    "cdf\n",
    "# cdf.loc[mod_prom]\n",
    "#Взятие среднего индекса\n",
    "mid_index = ((cdf.loc[mod_med].loc['Медицина'] + 1) / 2)\n",
    "mid_index\n",
    "# Получение медианного значения\n",
    "cdf = cdf.sort_values(by=['Медицина'], ascending=False)\n",
    "cdf.loc[(cdf['Медицина'] >= mid_index)].sort_values(by=['Медицина'], ascending=True).head(1).index[0]"
   ],
   "id": "dc1f7f30b43ac628",
   "outputs": [
    {
     "data": {
      "text/plain": [
       "'50-55'"
      ]
     },
     "execution_count": 32,
     "metadata": {},
     "output_type": "execute_result"
    }
   ],
   "execution_count": 32
  },
  {
   "metadata": {},
   "cell_type": "code",
   "outputs": [],
   "execution_count": null,
   "source": "",
   "id": "cef35707af2ed2bc"
  }
 ],
 "metadata": {
  "kernelspec": {
   "display_name": "Python 3",
   "language": "python",
   "name": "python3"
  },
  "language_info": {
   "codemirror_mode": {
    "name": "ipython",
    "version": 2
   },
   "file_extension": ".py",
   "mimetype": "text/x-python",
   "name": "python",
   "nbconvert_exporter": "python",
   "pygments_lexer": "ipython2",
   "version": "2.7.6"
  }
 },
 "nbformat": 4,
 "nbformat_minor": 5
}
