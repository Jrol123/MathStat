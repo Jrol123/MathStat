{
 "cells": [
  {
   "cell_type": "code",
   "id": "initial_id",
   "metadata": {
    "collapsed": true,
    "ExecuteTime": {
     "end_time": "2024-04-15T02:27:22.929199Z",
     "start_time": "2024-04-15T02:27:15.507224Z"
    }
   },
   "source": "import pandas as pd",
   "outputs": [],
   "execution_count": 1
  },
  {
   "metadata": {
    "ExecuteTime": {
     "end_time": "2024-04-15T02:28:43.870770Z",
     "start_time": "2024-04-15T02:28:43.821259Z"
    }
   },
   "cell_type": "code",
   "source": [
    "df = pd.read_csv('data.csv', index_col=0)\n",
    "df"
   ],
   "id": "69f8d421676c93",
   "outputs": [
    {
     "data": {
      "text/plain": [
       "                Число транспорта\n",
       "Длина маршрута                  \n",
       "8<                           3.0\n",
       "8-10                        12.8\n",
       "10-12                       15.2\n",
       "12-14                       15.3\n",
       "14-16                       38.0\n",
       "16-18                       10.4\n",
       ">18                          5.3"
      ],
      "text/html": [
       "<div>\n",
       "<style scoped>\n",
       "    .dataframe tbody tr th:only-of-type {\n",
       "        vertical-align: middle;\n",
       "    }\n",
       "\n",
       "    .dataframe tbody tr th {\n",
       "        vertical-align: top;\n",
       "    }\n",
       "\n",
       "    .dataframe thead th {\n",
       "        text-align: right;\n",
       "    }\n",
       "</style>\n",
       "<table border=\"1\" class=\"dataframe\">\n",
       "  <thead>\n",
       "    <tr style=\"text-align: right;\">\n",
       "      <th></th>\n",
       "      <th>Число транспорта</th>\n",
       "    </tr>\n",
       "    <tr>\n",
       "      <th>Длина маршрута</th>\n",
       "      <th></th>\n",
       "    </tr>\n",
       "  </thead>\n",
       "  <tbody>\n",
       "    <tr>\n",
       "      <th>8&lt;</th>\n",
       "      <td>3.0</td>\n",
       "    </tr>\n",
       "    <tr>\n",
       "      <th>8-10</th>\n",
       "      <td>12.8</td>\n",
       "    </tr>\n",
       "    <tr>\n",
       "      <th>10-12</th>\n",
       "      <td>15.2</td>\n",
       "    </tr>\n",
       "    <tr>\n",
       "      <th>12-14</th>\n",
       "      <td>15.3</td>\n",
       "    </tr>\n",
       "    <tr>\n",
       "      <th>14-16</th>\n",
       "      <td>38.0</td>\n",
       "    </tr>\n",
       "    <tr>\n",
       "      <th>16-18</th>\n",
       "      <td>10.4</td>\n",
       "    </tr>\n",
       "    <tr>\n",
       "      <th>&gt;18</th>\n",
       "      <td>5.3</td>\n",
       "    </tr>\n",
       "  </tbody>\n",
       "</table>\n",
       "</div>"
      ]
     },
     "execution_count": 3,
     "metadata": {},
     "output_type": "execute_result"
    }
   ],
   "execution_count": 3
  },
  {
   "metadata": {
    "ExecuteTime": {
     "end_time": "2024-04-15T02:29:52.268490Z",
     "start_time": "2024-04-15T02:29:52.257489Z"
    }
   },
   "cell_type": "code",
   "source": [
    "mod = df.loc[df['Число транспорта'] == max(df['Число транспорта'])]\n",
    "mod_val = mod.index[0]\n",
    "mod_val"
   ],
   "id": "39fc6c98cdcab2de",
   "outputs": [
    {
     "data": {
      "text/plain": [
       "'14-16'"
      ]
     },
     "execution_count": 4,
     "metadata": {},
     "output_type": "execute_result"
    }
   ],
   "execution_count": 4
  },
  {
   "metadata": {
    "ExecuteTime": {
     "end_time": "2024-04-15T02:33:37.112438Z",
     "start_time": "2024-04-15T02:33:37.100444Z"
    }
   },
   "cell_type": "code",
   "source": [
    "# Ранжирование\n",
    "cdf = df.sort_values(by=['Число транспорта']).cumsum()\n",
    "cdf"
   ],
   "id": "feff657b358a9c8",
   "outputs": [
    {
     "data": {
      "text/plain": [
       "                Число транспорта\n",
       "Длина маршрута                  \n",
       "8<                           3.0\n",
       ">18                          8.3\n",
       "16-18                       18.7\n",
       "8-10                        31.5\n",
       "10-12                       46.7\n",
       "12-14                       62.0\n",
       "14-16                      100.0"
      ],
      "text/html": [
       "<div>\n",
       "<style scoped>\n",
       "    .dataframe tbody tr th:only-of-type {\n",
       "        vertical-align: middle;\n",
       "    }\n",
       "\n",
       "    .dataframe tbody tr th {\n",
       "        vertical-align: top;\n",
       "    }\n",
       "\n",
       "    .dataframe thead th {\n",
       "        text-align: right;\n",
       "    }\n",
       "</style>\n",
       "<table border=\"1\" class=\"dataframe\">\n",
       "  <thead>\n",
       "    <tr style=\"text-align: right;\">\n",
       "      <th></th>\n",
       "      <th>Число транспорта</th>\n",
       "    </tr>\n",
       "    <tr>\n",
       "      <th>Длина маршрута</th>\n",
       "      <th></th>\n",
       "    </tr>\n",
       "  </thead>\n",
       "  <tbody>\n",
       "    <tr>\n",
       "      <th>8&lt;</th>\n",
       "      <td>3.0</td>\n",
       "    </tr>\n",
       "    <tr>\n",
       "      <th>&gt;18</th>\n",
       "      <td>8.3</td>\n",
       "    </tr>\n",
       "    <tr>\n",
       "      <th>16-18</th>\n",
       "      <td>18.7</td>\n",
       "    </tr>\n",
       "    <tr>\n",
       "      <th>8-10</th>\n",
       "      <td>31.5</td>\n",
       "    </tr>\n",
       "    <tr>\n",
       "      <th>10-12</th>\n",
       "      <td>46.7</td>\n",
       "    </tr>\n",
       "    <tr>\n",
       "      <th>12-14</th>\n",
       "      <td>62.0</td>\n",
       "    </tr>\n",
       "    <tr>\n",
       "      <th>14-16</th>\n",
       "      <td>100.0</td>\n",
       "    </tr>\n",
       "  </tbody>\n",
       "</table>\n",
       "</div>"
      ]
     },
     "execution_count": 8,
     "metadata": {},
     "output_type": "execute_result"
    }
   ],
   "execution_count": 8
  },
  {
   "metadata": {
    "ExecuteTime": {
     "end_time": "2024-04-15T02:36:36.978591Z",
     "start_time": "2024-04-15T02:36:36.963589Z"
    }
   },
   "cell_type": "code",
   "source": [
    "#Взятие среднего индекса\n",
    "mid_index = (cdf.loc[mod_val]['Число транспорта'] + 1) / 2\n",
    "mid_index # Промежуток 12-14 всё равно всё покрывает"
   ],
   "id": "f0a74e2a1f797ace",
   "outputs": [
    {
     "data": {
      "text/plain": [
       "50.5"
      ]
     },
     "execution_count": 10,
     "metadata": {},
     "output_type": "execute_result"
    }
   ],
   "execution_count": 10
  },
  {
   "metadata": {
    "ExecuteTime": {
     "end_time": "2024-04-15T02:36:37.593235Z",
     "start_time": "2024-04-15T02:36:37.573721Z"
    }
   },
   "cell_type": "code",
   "source": [
    "# Получение медианного значения\n",
    "cdf = cdf.sort_values(by=['Число транспорта'], ascending=False)\n",
    "cdf.loc[(cdf['Число транспорта'] >= mid_index)].sort_values(by=['Число транспорта'], ascending=True).head(1).index[0]\n"
   ],
   "id": "b6d4e4ba77fe48e9",
   "outputs": [
    {
     "data": {
      "text/plain": [
       "'12-14'"
      ]
     },
     "execution_count": 11,
     "metadata": {},
     "output_type": "execute_result"
    }
   ],
   "execution_count": 11
  },
  {
   "metadata": {},
   "cell_type": "code",
   "outputs": [],
   "execution_count": null,
   "source": "",
   "id": "6af99221b3f94082"
  }
 ],
 "metadata": {
  "kernelspec": {
   "display_name": "Python 3",
   "language": "python",
   "name": "python3"
  },
  "language_info": {
   "codemirror_mode": {
    "name": "ipython",
    "version": 2
   },
   "file_extension": ".py",
   "mimetype": "text/x-python",
   "name": "python",
   "nbconvert_exporter": "python",
   "pygments_lexer": "ipython2",
   "version": "2.7.6"
  }
 },
 "nbformat": 4,
 "nbformat_minor": 5
}
