{
 "cells": [
  {
   "cell_type": "code",
   "id": "initial_id",
   "metadata": {
    "collapsed": true,
    "ExecuteTime": {
     "end_time": "2024-04-15T08:09:22.729956Z",
     "start_time": "2024-04-15T08:09:22.540081Z"
    }
   },
   "source": [
    "import pandas as pd\n",
    "from math import sqrt"
   ],
   "outputs": [],
   "execution_count": 79
  },
  {
   "metadata": {
    "ExecuteTime": {
     "end_time": "2024-04-15T08:09:23.280751Z",
     "start_time": "2024-04-15T08:09:22.773020Z"
    }
   },
   "cell_type": "code",
   "source": [
    "df = pd.read_csv(\"data.csv\")\n",
    "df"
   ],
   "id": "dbc690e7cea93e67",
   "outputs": [
    {
     "data": {
      "text/plain": [
       "   Возраст  Число студентов\n",
       "0       17               10\n",
       "1       18               50\n",
       "2       19               70\n",
       "3       20               30\n",
       "4       21               10"
      ],
      "text/html": [
       "<div>\n",
       "<style scoped>\n",
       "    .dataframe tbody tr th:only-of-type {\n",
       "        vertical-align: middle;\n",
       "    }\n",
       "\n",
       "    .dataframe tbody tr th {\n",
       "        vertical-align: top;\n",
       "    }\n",
       "\n",
       "    .dataframe thead th {\n",
       "        text-align: right;\n",
       "    }\n",
       "</style>\n",
       "<table border=\"1\" class=\"dataframe\">\n",
       "  <thead>\n",
       "    <tr style=\"text-align: right;\">\n",
       "      <th></th>\n",
       "      <th>Возраст</th>\n",
       "      <th>Число студентов</th>\n",
       "    </tr>\n",
       "  </thead>\n",
       "  <tbody>\n",
       "    <tr>\n",
       "      <th>0</th>\n",
       "      <td>17</td>\n",
       "      <td>10</td>\n",
       "    </tr>\n",
       "    <tr>\n",
       "      <th>1</th>\n",
       "      <td>18</td>\n",
       "      <td>50</td>\n",
       "    </tr>\n",
       "    <tr>\n",
       "      <th>2</th>\n",
       "      <td>19</td>\n",
       "      <td>70</td>\n",
       "    </tr>\n",
       "    <tr>\n",
       "      <th>3</th>\n",
       "      <td>20</td>\n",
       "      <td>30</td>\n",
       "    </tr>\n",
       "    <tr>\n",
       "      <th>4</th>\n",
       "      <td>21</td>\n",
       "      <td>10</td>\n",
       "    </tr>\n",
       "  </tbody>\n",
       "</table>\n",
       "</div>"
      ]
     },
     "execution_count": 80,
     "metadata": {},
     "output_type": "execute_result"
    }
   ],
   "execution_count": 80
  },
  {
   "metadata": {},
   "cell_type": "markdown",
   "source": "# Показатели вариации",
   "id": "a2de82e7d50e799e"
  },
  {
   "metadata": {},
   "cell_type": "markdown",
   "source": "## Размах",
   "id": "9e67286998ce06e1"
  },
  {
   "metadata": {
    "ExecuteTime": {
     "end_time": "2024-04-15T08:09:23.312307Z",
     "start_time": "2024-04-15T08:09:23.282759Z"
    }
   },
   "cell_type": "code",
   "source": [
    "r = max(df['Возраст']) - min(df['Возраст'])\n",
    "r"
   ],
   "id": "7e79a4a6431ad5b5",
   "outputs": [
    {
     "data": {
      "text/plain": [
       "4"
      ]
     },
     "execution_count": 81,
     "metadata": {},
     "output_type": "execute_result"
    }
   ],
   "execution_count": 81
  },
  {
   "metadata": {},
   "cell_type": "markdown",
   "source": "## Среднее линейное отклонение",
   "id": "bfa1c43663edd230"
  },
  {
   "metadata": {},
   "cell_type": "markdown",
   "source": "### Оценка выборочной средней",
   "id": "a876337c63ea4f1e"
  },
  {
   "metadata": {
    "ExecuteTime": {
     "end_time": "2024-04-15T08:09:23.343879Z",
     "start_time": "2024-04-15T08:09:23.314310Z"
    }
   },
   "cell_type": "code",
   "source": [
    "cdf = df.copy()\n",
    "total_freq = sum(cdf['Число студентов'])\n",
    "cdf['Варианта (s)'] = cdf['Число студентов'] * cdf['Возраст']\n",
    "cdf"
   ],
   "id": "9e17080ad6750137",
   "outputs": [
    {
     "data": {
      "text/plain": [
       "   Возраст  Число студентов  Варианта (s)\n",
       "0       17               10           170\n",
       "1       18               50           900\n",
       "2       19               70          1330\n",
       "3       20               30           600\n",
       "4       21               10           210"
      ],
      "text/html": [
       "<div>\n",
       "<style scoped>\n",
       "    .dataframe tbody tr th:only-of-type {\n",
       "        vertical-align: middle;\n",
       "    }\n",
       "\n",
       "    .dataframe tbody tr th {\n",
       "        vertical-align: top;\n",
       "    }\n",
       "\n",
       "    .dataframe thead th {\n",
       "        text-align: right;\n",
       "    }\n",
       "</style>\n",
       "<table border=\"1\" class=\"dataframe\">\n",
       "  <thead>\n",
       "    <tr style=\"text-align: right;\">\n",
       "      <th></th>\n",
       "      <th>Возраст</th>\n",
       "      <th>Число студентов</th>\n",
       "      <th>Варианта (s)</th>\n",
       "    </tr>\n",
       "  </thead>\n",
       "  <tbody>\n",
       "    <tr>\n",
       "      <th>0</th>\n",
       "      <td>17</td>\n",
       "      <td>10</td>\n",
       "      <td>170</td>\n",
       "    </tr>\n",
       "    <tr>\n",
       "      <th>1</th>\n",
       "      <td>18</td>\n",
       "      <td>50</td>\n",
       "      <td>900</td>\n",
       "    </tr>\n",
       "    <tr>\n",
       "      <th>2</th>\n",
       "      <td>19</td>\n",
       "      <td>70</td>\n",
       "      <td>1330</td>\n",
       "    </tr>\n",
       "    <tr>\n",
       "      <th>3</th>\n",
       "      <td>20</td>\n",
       "      <td>30</td>\n",
       "      <td>600</td>\n",
       "    </tr>\n",
       "    <tr>\n",
       "      <th>4</th>\n",
       "      <td>21</td>\n",
       "      <td>10</td>\n",
       "      <td>210</td>\n",
       "    </tr>\n",
       "  </tbody>\n",
       "</table>\n",
       "</div>"
      ]
     },
     "execution_count": 82,
     "metadata": {},
     "output_type": "execute_result"
    }
   ],
   "execution_count": 82
  },
  {
   "metadata": {
    "ExecuteTime": {
     "end_time": "2024-04-15T08:09:23.359982Z",
     "start_time": "2024-04-15T08:09:23.345877Z"
    }
   },
   "cell_type": "code",
   "source": [
    "selective_mean = sum(cdf['Варианта (s)']) / total_freq\n",
    "selective_mean"
   ],
   "id": "55b12c86bf1cc14f",
   "outputs": [
    {
     "data": {
      "text/plain": [
       "18.88235294117647"
      ]
     },
     "execution_count": 83,
     "metadata": {},
     "output_type": "execute_result"
    }
   ],
   "execution_count": 83
  },
  {
   "metadata": {
    "ExecuteTime": {
     "end_time": "2024-04-15T08:09:23.391962Z",
     "start_time": "2024-04-15T08:09:23.360902Z"
    }
   },
   "cell_type": "code",
   "source": [
    "cdf['Разность (d)'] = round(cdf['Возраст'] - selective_mean, 1)\n",
    "cdf['Частота (f)'] = abs(cdf['Разность (d)']) * cdf['Число студентов']\n",
    "cdf['Частота (2f)'] = (cdf['Разность (d)'] ** 2) * cdf['Число студентов']\n",
    "cdf = cdf.astype({'Частота (f)': 'int64'})\n",
    "cdf"
   ],
   "id": "5b373cf27be65d06",
   "outputs": [
    {
     "data": {
      "text/plain": [
       "   Возраст  Число студентов  Варианта (s)  Разность (d)  Частота (f)  \\\n",
       "0       17               10           170          -1.9           19   \n",
       "1       18               50           900          -0.9           45   \n",
       "2       19               70          1330           0.1            7   \n",
       "3       20               30           600           1.1           33   \n",
       "4       21               10           210           2.1           21   \n",
       "\n",
       "   Частота (2f)  \n",
       "0          36.1  \n",
       "1          40.5  \n",
       "2           0.7  \n",
       "3          36.3  \n",
       "4          44.1  "
      ],
      "text/html": [
       "<div>\n",
       "<style scoped>\n",
       "    .dataframe tbody tr th:only-of-type {\n",
       "        vertical-align: middle;\n",
       "    }\n",
       "\n",
       "    .dataframe tbody tr th {\n",
       "        vertical-align: top;\n",
       "    }\n",
       "\n",
       "    .dataframe thead th {\n",
       "        text-align: right;\n",
       "    }\n",
       "</style>\n",
       "<table border=\"1\" class=\"dataframe\">\n",
       "  <thead>\n",
       "    <tr style=\"text-align: right;\">\n",
       "      <th></th>\n",
       "      <th>Возраст</th>\n",
       "      <th>Число студентов</th>\n",
       "      <th>Варианта (s)</th>\n",
       "      <th>Разность (d)</th>\n",
       "      <th>Частота (f)</th>\n",
       "      <th>Частота (2f)</th>\n",
       "    </tr>\n",
       "  </thead>\n",
       "  <tbody>\n",
       "    <tr>\n",
       "      <th>0</th>\n",
       "      <td>17</td>\n",
       "      <td>10</td>\n",
       "      <td>170</td>\n",
       "      <td>-1.9</td>\n",
       "      <td>19</td>\n",
       "      <td>36.1</td>\n",
       "    </tr>\n",
       "    <tr>\n",
       "      <th>1</th>\n",
       "      <td>18</td>\n",
       "      <td>50</td>\n",
       "      <td>900</td>\n",
       "      <td>-0.9</td>\n",
       "      <td>45</td>\n",
       "      <td>40.5</td>\n",
       "    </tr>\n",
       "    <tr>\n",
       "      <th>2</th>\n",
       "      <td>19</td>\n",
       "      <td>70</td>\n",
       "      <td>1330</td>\n",
       "      <td>0.1</td>\n",
       "      <td>7</td>\n",
       "      <td>0.7</td>\n",
       "    </tr>\n",
       "    <tr>\n",
       "      <th>3</th>\n",
       "      <td>20</td>\n",
       "      <td>30</td>\n",
       "      <td>600</td>\n",
       "      <td>1.1</td>\n",
       "      <td>33</td>\n",
       "      <td>36.3</td>\n",
       "    </tr>\n",
       "    <tr>\n",
       "      <th>4</th>\n",
       "      <td>21</td>\n",
       "      <td>10</td>\n",
       "      <td>210</td>\n",
       "      <td>2.1</td>\n",
       "      <td>21</td>\n",
       "      <td>44.1</td>\n",
       "    </tr>\n",
       "  </tbody>\n",
       "</table>\n",
       "</div>"
      ]
     },
     "execution_count": 84,
     "metadata": {},
     "output_type": "execute_result"
    }
   ],
   "execution_count": 84
  },
  {
   "metadata": {
    "ExecuteTime": {
     "end_time": "2024-04-15T08:10:02.902082Z",
     "start_time": "2024-04-15T08:10:02.892560Z"
    }
   },
   "cell_type": "code",
   "source": [
    "mid_lin_disp = sum(cdf['Частота (f)']) / total_freq\n",
    "mid_lin_disp"
   ],
   "id": "283d5b05fd8a1a79",
   "outputs": [
    {
     "data": {
      "text/plain": [
       "0.7352941176470589"
      ]
     },
     "execution_count": 88,
     "metadata": {},
     "output_type": "execute_result"
    }
   ],
   "execution_count": 88
  },
  {
   "metadata": {},
   "cell_type": "markdown",
   "source": "## Среднеквадратическое отклонение",
   "id": "efe468f70a063130"
  },
  {
   "metadata": {
    "ExecuteTime": {
     "end_time": "2024-04-15T08:10:03.971060Z",
     "start_time": "2024-04-15T08:10:03.951019Z"
    }
   },
   "cell_type": "code",
   "source": [
    "disp = sum(cdf['Частота (2f)']) / total_freq\n",
    "disp"
   ],
   "id": "c2e8525d2958c8b1",
   "outputs": [
    {
     "data": {
      "text/plain": [
       "0.9276470588235294"
      ]
     },
     "execution_count": 89,
     "metadata": {},
     "output_type": "execute_result"
    }
   ],
   "execution_count": 89
  },
  {
   "metadata": {},
   "cell_type": "markdown",
   "source": "## Коэффициент вариации",
   "id": "c8966d9a84c356d8"
  },
  {
   "metadata": {
    "ExecuteTime": {
     "end_time": "2024-04-15T08:10:04.822745Z",
     "start_time": "2024-04-15T08:10:04.804697Z"
    }
   },
   "cell_type": "code",
   "source": [
    "coef_var = sqrt(disp) / selective_mean * 100\n",
    "coef_var"
   ],
   "id": "bc30f95f7dc33776",
   "outputs": [
    {
     "data": {
      "text/plain": [
       "5.10076452507928"
      ]
     },
     "execution_count": 90,
     "metadata": {},
     "output_type": "execute_result"
    }
   ],
   "execution_count": 90
  },
  {
   "metadata": {},
   "cell_type": "code",
   "outputs": [],
   "execution_count": null,
   "source": "",
   "id": "97f49ee2bd35a212"
  }
 ],
 "metadata": {
  "kernelspec": {
   "display_name": "Python 3",
   "language": "python",
   "name": "python3"
  },
  "language_info": {
   "codemirror_mode": {
    "name": "ipython",
    "version": 2
   },
   "file_extension": ".py",
   "mimetype": "text/x-python",
   "name": "python",
   "nbconvert_exporter": "python",
   "pygments_lexer": "ipython2",
   "version": "2.7.6"
  }
 },
 "nbformat": 4,
 "nbformat_minor": 5
}
