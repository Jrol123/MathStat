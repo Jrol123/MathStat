{
 "cells": [
  {
   "cell_type": "code",
   "execution_count": 121,
   "metadata": {},
   "outputs": [],
   "source": [
    "import pandas as pd\n",
    "import numpy as np\n",
    "import math as m"
   ]
  },
  {
   "cell_type": "code",
   "execution_count": 122,
   "metadata": {},
   "outputs": [],
   "source": [
    "df = pd.read_csv('data/data.csv')"
   ]
  },
  {
   "cell_type": "code",
   "execution_count": 123,
   "metadata": {},
   "outputs": [],
   "source": [
    "# Создаем столбцы с пролагарифмированными данными\n",
    "df['X'] = np.log(df['x'])\n",
    "df['Y'] = np.log(df['y'])"
   ]
  },
  {
   "cell_type": "code",
   "execution_count": 124,
   "metadata": {},
   "outputs": [],
   "source": [
    "df['xy'] = df['x'] * df['y']\n",
    "df['x2'] = df['x'] ** 2\n",
    "df['y2'] = df['y'] ** 2"
   ]
  },
  {
   "cell_type": "code",
   "execution_count": 125,
   "metadata": {},
   "outputs": [
    {
     "data": {
      "text/html": [
       "<div>\n",
       "<style scoped>\n",
       "    .dataframe tbody tr th:only-of-type {\n",
       "        vertical-align: middle;\n",
       "    }\n",
       "\n",
       "    .dataframe tbody tr th {\n",
       "        vertical-align: top;\n",
       "    }\n",
       "\n",
       "    .dataframe thead th {\n",
       "        text-align: right;\n",
       "    }\n",
       "</style>\n",
       "<table border=\"1\" class=\"dataframe\">\n",
       "  <thead>\n",
       "    <tr style=\"text-align: right;\">\n",
       "      <th></th>\n",
       "      <th>x</th>\n",
       "      <th>y</th>\n",
       "      <th>X</th>\n",
       "      <th>Y</th>\n",
       "      <th>xy</th>\n",
       "      <th>x2</th>\n",
       "      <th>y2</th>\n",
       "    </tr>\n",
       "  </thead>\n",
       "  <tbody>\n",
       "    <tr>\n",
       "      <th>0</th>\n",
       "      <td>78</td>\n",
       "      <td>133</td>\n",
       "      <td>4.356709</td>\n",
       "      <td>4.890349</td>\n",
       "      <td>10374</td>\n",
       "      <td>6084</td>\n",
       "      <td>17689</td>\n",
       "    </tr>\n",
       "    <tr>\n",
       "      <th>1</th>\n",
       "      <td>82</td>\n",
       "      <td>148</td>\n",
       "      <td>4.406719</td>\n",
       "      <td>4.997212</td>\n",
       "      <td>12136</td>\n",
       "      <td>6724</td>\n",
       "      <td>21904</td>\n",
       "    </tr>\n",
       "    <tr>\n",
       "      <th>2</th>\n",
       "      <td>87</td>\n",
       "      <td>134</td>\n",
       "      <td>4.465908</td>\n",
       "      <td>4.897840</td>\n",
       "      <td>11658</td>\n",
       "      <td>7569</td>\n",
       "      <td>17956</td>\n",
       "    </tr>\n",
       "    <tr>\n",
       "      <th>3</th>\n",
       "      <td>79</td>\n",
       "      <td>154</td>\n",
       "      <td>4.369448</td>\n",
       "      <td>5.036953</td>\n",
       "      <td>12166</td>\n",
       "      <td>6241</td>\n",
       "      <td>23716</td>\n",
       "    </tr>\n",
       "    <tr>\n",
       "      <th>4</th>\n",
       "      <td>89</td>\n",
       "      <td>162</td>\n",
       "      <td>4.488636</td>\n",
       "      <td>5.087596</td>\n",
       "      <td>14418</td>\n",
       "      <td>7921</td>\n",
       "      <td>26244</td>\n",
       "    </tr>\n",
       "    <tr>\n",
       "      <th>5</th>\n",
       "      <td>106</td>\n",
       "      <td>195</td>\n",
       "      <td>4.663439</td>\n",
       "      <td>5.273000</td>\n",
       "      <td>20670</td>\n",
       "      <td>11236</td>\n",
       "      <td>38025</td>\n",
       "    </tr>\n",
       "    <tr>\n",
       "      <th>6</th>\n",
       "      <td>67</td>\n",
       "      <td>139</td>\n",
       "      <td>4.204693</td>\n",
       "      <td>4.934474</td>\n",
       "      <td>9313</td>\n",
       "      <td>4489</td>\n",
       "      <td>19321</td>\n",
       "    </tr>\n",
       "    <tr>\n",
       "      <th>7</th>\n",
       "      <td>88</td>\n",
       "      <td>158</td>\n",
       "      <td>4.477337</td>\n",
       "      <td>5.062595</td>\n",
       "      <td>13904</td>\n",
       "      <td>7744</td>\n",
       "      <td>24964</td>\n",
       "    </tr>\n",
       "    <tr>\n",
       "      <th>8</th>\n",
       "      <td>73</td>\n",
       "      <td>152</td>\n",
       "      <td>4.290459</td>\n",
       "      <td>5.023881</td>\n",
       "      <td>11096</td>\n",
       "      <td>5329</td>\n",
       "      <td>23104</td>\n",
       "    </tr>\n",
       "    <tr>\n",
       "      <th>9</th>\n",
       "      <td>87</td>\n",
       "      <td>162</td>\n",
       "      <td>4.465908</td>\n",
       "      <td>5.087596</td>\n",
       "      <td>14094</td>\n",
       "      <td>7569</td>\n",
       "      <td>26244</td>\n",
       "    </tr>\n",
       "    <tr>\n",
       "      <th>10</th>\n",
       "      <td>76</td>\n",
       "      <td>159</td>\n",
       "      <td>4.330733</td>\n",
       "      <td>5.068904</td>\n",
       "      <td>12084</td>\n",
       "      <td>5776</td>\n",
       "      <td>25281</td>\n",
       "    </tr>\n",
       "    <tr>\n",
       "      <th>11</th>\n",
       "      <td>115</td>\n",
       "      <td>173</td>\n",
       "      <td>4.744932</td>\n",
       "      <td>5.153292</td>\n",
       "      <td>19895</td>\n",
       "      <td>13225</td>\n",
       "      <td>29929</td>\n",
       "    </tr>\n",
       "  </tbody>\n",
       "</table>\n",
       "</div>"
      ],
      "text/plain": [
       "      x    y         X         Y     xy     x2     y2\n",
       "0    78  133  4.356709  4.890349  10374   6084  17689\n",
       "1    82  148  4.406719  4.997212  12136   6724  21904\n",
       "2    87  134  4.465908  4.897840  11658   7569  17956\n",
       "3    79  154  4.369448  5.036953  12166   6241  23716\n",
       "4    89  162  4.488636  5.087596  14418   7921  26244\n",
       "5   106  195  4.663439  5.273000  20670  11236  38025\n",
       "6    67  139  4.204693  4.934474   9313   4489  19321\n",
       "7    88  158  4.477337  5.062595  13904   7744  24964\n",
       "8    73  152  4.290459  5.023881  11096   5329  23104\n",
       "9    87  162  4.465908  5.087596  14094   7569  26244\n",
       "10   76  159  4.330733  5.068904  12084   5776  25281\n",
       "11  115  173  4.744932  5.153292  19895  13225  29929"
      ]
     },
     "execution_count": 125,
     "metadata": {},
     "output_type": "execute_result"
    }
   ],
   "source": [
    "df"
   ]
  },
  {
   "cell_type": "code",
   "execution_count": 127,
   "metadata": {},
   "outputs": [],
   "source": [
    "b = (df['xy'].mean() - df['x'].mean() * df['y'].mean()) / (df['x'].std() ** 2)\n",
    "a = df['y'].mean() - b * df['x'].mean()"
   ]
  },
  {
   "cell_type": "code",
   "execution_count": 128,
   "metadata": {},
   "outputs": [
    {
     "name": "stdout",
     "output_type": "stream",
     "text": [
      "y = 83.5409447664387 + 0.8437280066238907 * x\n"
     ]
    }
   ],
   "source": [
    "print(f'y = {a} + {b} * x')"
   ]
  },
  {
   "cell_type": "markdown",
   "metadata": {},
   "source": [
    "В среднем, при увеличении среднедушевого прожиточного минимума на 1 рубль, среднедневная ЗП увеличивается в среднем на 0.84 рубля"
   ]
  },
  {
   "cell_type": "code",
   "execution_count": 129,
   "metadata": {},
   "outputs": [],
   "source": [
    "def f(x, a, b):\n",
    "    return a + b * x"
   ]
  },
  {
   "cell_type": "code",
   "execution_count": 130,
   "metadata": {},
   "outputs": [],
   "source": [
    "df['y^'] = f(df['x'], a, b) "
   ]
  },
  {
   "cell_type": "code",
   "execution_count": 131,
   "metadata": {},
   "outputs": [],
   "source": [
    "df['y-y^'] = df['y'] - df['y^']"
   ]
  },
  {
   "cell_type": "code",
   "execution_count": 132,
   "metadata": {},
   "outputs": [
    {
     "data": {
      "text/html": [
       "<div>\n",
       "<style scoped>\n",
       "    .dataframe tbody tr th:only-of-type {\n",
       "        vertical-align: middle;\n",
       "    }\n",
       "\n",
       "    .dataframe tbody tr th {\n",
       "        vertical-align: top;\n",
       "    }\n",
       "\n",
       "    .dataframe thead th {\n",
       "        text-align: right;\n",
       "    }\n",
       "</style>\n",
       "<table border=\"1\" class=\"dataframe\">\n",
       "  <thead>\n",
       "    <tr style=\"text-align: right;\">\n",
       "      <th></th>\n",
       "      <th>y^</th>\n",
       "      <th>y-y^</th>\n",
       "    </tr>\n",
       "  </thead>\n",
       "  <tbody>\n",
       "    <tr>\n",
       "      <th>0</th>\n",
       "      <td>149.351729</td>\n",
       "      <td>-16.351729</td>\n",
       "    </tr>\n",
       "    <tr>\n",
       "      <th>1</th>\n",
       "      <td>152.726641</td>\n",
       "      <td>-4.726641</td>\n",
       "    </tr>\n",
       "    <tr>\n",
       "      <th>2</th>\n",
       "      <td>156.945281</td>\n",
       "      <td>-22.945281</td>\n",
       "    </tr>\n",
       "    <tr>\n",
       "      <th>3</th>\n",
       "      <td>150.195457</td>\n",
       "      <td>3.804543</td>\n",
       "    </tr>\n",
       "    <tr>\n",
       "      <th>4</th>\n",
       "      <td>158.632737</td>\n",
       "      <td>3.367263</td>\n",
       "    </tr>\n",
       "    <tr>\n",
       "      <th>5</th>\n",
       "      <td>172.976113</td>\n",
       "      <td>22.023887</td>\n",
       "    </tr>\n",
       "    <tr>\n",
       "      <th>6</th>\n",
       "      <td>140.070721</td>\n",
       "      <td>-1.070721</td>\n",
       "    </tr>\n",
       "    <tr>\n",
       "      <th>7</th>\n",
       "      <td>157.789009</td>\n",
       "      <td>0.210991</td>\n",
       "    </tr>\n",
       "    <tr>\n",
       "      <th>8</th>\n",
       "      <td>145.133089</td>\n",
       "      <td>6.866911</td>\n",
       "    </tr>\n",
       "    <tr>\n",
       "      <th>9</th>\n",
       "      <td>156.945281</td>\n",
       "      <td>5.054719</td>\n",
       "    </tr>\n",
       "    <tr>\n",
       "      <th>10</th>\n",
       "      <td>147.664273</td>\n",
       "      <td>11.335727</td>\n",
       "    </tr>\n",
       "    <tr>\n",
       "      <th>11</th>\n",
       "      <td>180.569666</td>\n",
       "      <td>-7.569666</td>\n",
       "    </tr>\n",
       "  </tbody>\n",
       "</table>\n",
       "</div>"
      ],
      "text/plain": [
       "            y^       y-y^\n",
       "0   149.351729 -16.351729\n",
       "1   152.726641  -4.726641\n",
       "2   156.945281 -22.945281\n",
       "3   150.195457   3.804543\n",
       "4   158.632737   3.367263\n",
       "5   172.976113  22.023887\n",
       "6   140.070721  -1.070721\n",
       "7   157.789009   0.210991\n",
       "8   145.133089   6.866911\n",
       "9   156.945281   5.054719\n",
       "10  147.664273  11.335727\n",
       "11  180.569666  -7.569666"
      ]
     },
     "execution_count": 132,
     "metadata": {},
     "output_type": "execute_result"
    }
   ],
   "source": [
    "df[['y^', 'y-y^']]"
   ]
  },
  {
   "cell_type": "code",
   "execution_count": 133,
   "metadata": {},
   "outputs": [],
   "source": [
    "df['Ai'] = abs( (df['y-y^']) * 100 / (df['y']) )"
   ]
  },
  {
   "cell_type": "code",
   "execution_count": 134,
   "metadata": {},
   "outputs": [
    {
     "data": {
      "text/html": [
       "<div>\n",
       "<style scoped>\n",
       "    .dataframe tbody tr th:only-of-type {\n",
       "        vertical-align: middle;\n",
       "    }\n",
       "\n",
       "    .dataframe tbody tr th {\n",
       "        vertical-align: top;\n",
       "    }\n",
       "\n",
       "    .dataframe thead th {\n",
       "        text-align: right;\n",
       "    }\n",
       "</style>\n",
       "<table border=\"1\" class=\"dataframe\">\n",
       "  <thead>\n",
       "    <tr style=\"text-align: right;\">\n",
       "      <th></th>\n",
       "      <th>Ai</th>\n",
       "    </tr>\n",
       "  </thead>\n",
       "  <tbody>\n",
       "    <tr>\n",
       "      <th>0</th>\n",
       "      <td>12.294533</td>\n",
       "    </tr>\n",
       "    <tr>\n",
       "      <th>1</th>\n",
       "      <td>3.193677</td>\n",
       "    </tr>\n",
       "    <tr>\n",
       "      <th>2</th>\n",
       "      <td>17.123344</td>\n",
       "    </tr>\n",
       "    <tr>\n",
       "      <th>3</th>\n",
       "      <td>2.470482</td>\n",
       "    </tr>\n",
       "    <tr>\n",
       "      <th>4</th>\n",
       "      <td>2.078557</td>\n",
       "    </tr>\n",
       "    <tr>\n",
       "      <th>5</th>\n",
       "      <td>11.294301</td>\n",
       "    </tr>\n",
       "    <tr>\n",
       "      <th>6</th>\n",
       "      <td>0.770303</td>\n",
       "    </tr>\n",
       "    <tr>\n",
       "      <th>7</th>\n",
       "      <td>0.133538</td>\n",
       "    </tr>\n",
       "    <tr>\n",
       "      <th>8</th>\n",
       "      <td>4.517704</td>\n",
       "    </tr>\n",
       "    <tr>\n",
       "      <th>9</th>\n",
       "      <td>3.120197</td>\n",
       "    </tr>\n",
       "    <tr>\n",
       "      <th>10</th>\n",
       "      <td>7.129388</td>\n",
       "    </tr>\n",
       "    <tr>\n",
       "      <th>11</th>\n",
       "      <td>4.375529</td>\n",
       "    </tr>\n",
       "  </tbody>\n",
       "</table>\n",
       "</div>"
      ],
      "text/plain": [
       "           Ai\n",
       "0   12.294533\n",
       "1    3.193677\n",
       "2   17.123344\n",
       "3    2.470482\n",
       "4    2.078557\n",
       "5   11.294301\n",
       "6    0.770303\n",
       "7    0.133538\n",
       "8    4.517704\n",
       "9    3.120197\n",
       "10   7.129388\n",
       "11   4.375529"
      ]
     },
     "execution_count": 134,
     "metadata": {},
     "output_type": "execute_result"
    }
   ],
   "source": [
    "df[['Ai']]"
   ]
  },
  {
   "cell_type": "code",
   "execution_count": 135,
   "metadata": {},
   "outputs": [
    {
     "name": "stdout",
     "output_type": "stream",
     "text": [
      "Средняя ошибка = 5.708462836670443 %.\n"
     ]
    }
   ],
   "source": [
    "A_mean = df['Ai'].mean()\n",
    "print(f'Средняя ошибка = {A_mean} %.')"
   ]
  },
  {
   "cell_type": "markdown",
   "metadata": {},
   "source": [
    "В среднем, расчетные значения отклоняются от фактических на 8.1 %."
   ]
  },
  {
   "cell_type": "code",
   "execution_count": 136,
   "metadata": {},
   "outputs": [
    {
     "name": "stdout",
     "output_type": "stream",
     "text": [
      "Коэффициент парной корреляции = 0.6609397792839882\n"
     ]
    }
   ],
   "source": [
    "y_mean = df['y'].mean()\n",
    "if df['x'].std() > df['y'].std():\n",
    "    r = b * df['y'].std() / df['x'].std()\n",
    "else: \n",
    "    r = b * df['x'].std() / df['y'].std()\n",
    "print(f'Коэффициент парной корреляции = {r}')"
   ]
  },
  {
   "cell_type": "markdown",
   "metadata": {},
   "source": [
    "Корреляция умереная."
   ]
  },
  {
   "cell_type": "markdown",
   "metadata": {},
   "source": [
    "## Проверка значимости коэффициентов регрессии и корреляции\n",
    "\n",
    "**$H_0$**: Выявленная зависимость обусловленна влиянием случайности"
   ]
  },
  {
   "cell_type": "code",
   "execution_count": 137,
   "metadata": {},
   "outputs": [],
   "source": [
    "mr = np.sqrt((1 - r ** 2) / (len(df['x']) - 2))\n",
    "ma = np.sqrt( (sum(df['y-y^'] ** 2) / (len(df['x']) - 2)) * ((sum(df['x'] ** 2)) / (len(df['x']) * sum((df['x'] - df['x'].mean()) ** 2))) )\n",
    "mb = np.sqrt((sum(df['y-y^'] ** 2)) / (len(df['x'] - 2)) / (sum((df['x'] - df['x'].mean()) ** 2)))"
   ]
  },
  {
   "cell_type": "code",
   "execution_count": 138,
   "metadata": {},
   "outputs": [
    {
     "name": "stdout",
     "output_type": "stream",
     "text": [
      "3.4375566565821605 3.2919232472779645 2.785136774159887\n"
     ]
    }
   ],
   "source": [
    "print(*[ta := a / ma,  tb := b / mb, tr := r / mr])"
   ]
  },
  {
   "cell_type": "code",
   "execution_count": 139,
   "metadata": {},
   "outputs": [
    {
     "name": "stdout",
     "output_type": "stream",
     "text": [
      "2.22813885196\n"
     ]
    }
   ],
   "source": [
    "print(t := 2.22813885196)"
   ]
  },
  {
   "cell_type": "markdown",
   "metadata": {},
   "source": [
    "$t_a$ = 3.4375566565821605\n",
    "\n",
    "$t_b$ = 3.2919232472779645\n",
    "\n",
    "$t_r$ = 2.785136774159887\n",
    "\n",
    "$t_{таб}$ = 2.22813885196"
   ]
  },
  {
   "cell_type": "code",
   "execution_count": 140,
   "metadata": {},
   "outputs": [
    {
     "name": "stdout",
     "output_type": "stream",
     "text": [
      "Прогнозное x = 91.57416666666667; прогнозное значение y = 160.80463386634932\n"
     ]
    }
   ],
   "source": [
    "x_p = 1.07 * df['x'].mean()\n",
    "y_p = f(x_p, a, b)\n",
    "print(f'Прогнозное x = {x_p}; прогнозное значение y = {y_p}')"
   ]
  },
  {
   "cell_type": "markdown",
   "metadata": {},
   "source": [
    "Так как:\n",
    "\n",
    "$t_a$ > $t_{таб}$\n",
    "\n",
    "$t_b$ > $t_{таб}$\n",
    "\n",
    "$t_r$ > $t_{таб}$\n",
    "\n",
    "$\\implies$ имеем достаточно оснований отклонить гипотезу $H_0$\n",
    "\n",
    "$\\implies$ Выявленная зависимость значима."
   ]
  },
  {
   "cell_type": "code",
   "execution_count": 141,
   "metadata": {},
   "outputs": [],
   "source": [
    "my = np.sqrt((sum(df['y-y^'] ** 2)) / (len(df['x'])) * (1 + 1 / len(df['x']) + \n",
    "                                                        ((x_p - df['x'].mean()) ** 2) / (sum((df['x'] - df['x'].mean()) ** 2))))"
   ]
  },
  {
   "cell_type": "code",
   "execution_count": 142,
   "metadata": {},
   "outputs": [],
   "source": [
    "delta = my * t"
   ]
  },
  {
   "cell_type": "code",
   "execution_count": 143,
   "metadata": {},
   "outputs": [
    {
     "data": {
      "text/plain": [
       "12.066783245225924"
      ]
     },
     "execution_count": 143,
     "metadata": {},
     "output_type": "execute_result"
    }
   ],
   "source": [
    "my"
   ]
  },
  {
   "cell_type": "code",
   "execution_count": 144,
   "metadata": {},
   "outputs": [
    {
     "name": "stdout",
     "output_type": "stream",
     "text": [
      "Доверительный интервал (133.91816529948147; 187.69110243321717)\n"
     ]
    }
   ],
   "source": [
    "print(f'Доверительный интервал ({y_p - delta}; {y_p + delta})')"
   ]
  },
  {
   "cell_type": "markdown",
   "metadata": {},
   "source": [
    "Доверительный интервал прогноза\n",
    "\n",
    "$\\overset{\\wedge}{y_p}  - \\Delta_{\\overset{\\wedge}{y_p}} < y < \\overset{\\wedge}{y_p}  + \\Delta_{\\overset{\\wedge}{y_p}}$\n",
    "\n",
    "133.91816529948147 $< y <$ 187.69110243321717"
   ]
  }
 ],
 "metadata": {
  "kernelspec": {
   "display_name": "Python 3",
   "language": "python",
   "name": "python3"
  },
  "language_info": {
   "codemirror_mode": {
    "name": "ipython",
    "version": 3
   },
   "file_extension": ".py",
   "mimetype": "text/x-python",
   "name": "python",
   "nbconvert_exporter": "python",
   "pygments_lexer": "ipython3",
   "version": "3.11.6"
  }
 },
 "nbformat": 4,
 "nbformat_minor": 2
}
